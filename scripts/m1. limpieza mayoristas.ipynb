{
 "cells": [
  {
   "cell_type": "code",
   "execution_count": 2,
   "metadata": {},
   "outputs": [
    {
     "name": "stdout",
     "output_type": "stream",
     "text": [
      "Defaulting to user installation because normal site-packages is not writeable\n",
      "Requirement already satisfied: sklearn in c:\\programdata\\anaconda3\\lib\\site-packages (0.0.post1)\n",
      "Note: you may need to restart the kernel to use updated packages.\n"
     ]
    }
   ],
   "source": [
    "#pip install sklearn"
   ]
  },
  {
   "cell_type": "code",
   "execution_count": 1,
   "metadata": {},
   "outputs": [],
   "source": [
    "from selenium import webdriver\n",
    "import re\n",
    "import time \n",
    "import os\n",
    "import random\n",
    "import pandas as pd\n",
    "import numpy as np\n",
    "from tqdm import tqdm\n",
    "import json\n",
    "import pytz \n",
    "import statistics\n",
    "import requests\n",
    "import os, zipfile"
   ]
  },
  {
   "cell_type": "code",
   "execution_count": 2,
   "metadata": {},
   "outputs": [
    {
     "data": {
      "text/plain": [
       "'e:\\\\GitHub\\\\COMBUSTIBLES\\\\scripts'"
      ]
     },
     "execution_count": 2,
     "metadata": {},
     "output_type": "execute_result"
    }
   ],
   "source": [
    "a=os.getcwd()\n",
    "a"
   ]
  },
  {
   "cell_type": "code",
   "execution_count": 3,
   "metadata": {},
   "outputs": [],
   "source": [
    "new_dir_path = r'../data/raw/precios mayoristas'"
   ]
  },
  {
   "cell_type": "code",
   "execution_count": 4,
   "metadata": {},
   "outputs": [],
   "source": [
    "for file in os.listdir(new_dir_path):   # get the list of files\n",
    "    if zipfile.is_zipfile(file): # if it is a zipfile, extract it\n",
    "        with zipfile.ZipFile(file) as item: # treat the file as a zip\n",
    "           item.extractall()"
   ]
  },
  {
   "cell_type": "code",
   "execution_count": 5,
   "metadata": {},
   "outputs": [],
   "source": [
    "for file in os.listdir(new_dir_path):\n",
    "    if not file.endswith('.xlsx'):\n",
    "        file_path = os.path.join(new_dir_path, file)\n",
    "        os.remove(file_path)\n",
    "        print(f\"Deleted: {file_path}\")"
   ]
  },
  {
   "cell_type": "code",
   "execution_count": 6,
   "metadata": {},
   "outputs": [
    {
     "data": {
      "text/plain": [
       "'../data/raw/precios mayoristas'"
      ]
     },
     "execution_count": 6,
     "metadata": {},
     "output_type": "execute_result"
    }
   ],
   "source": [
    "new_dir_path"
   ]
  },
  {
   "cell_type": "code",
   "execution_count": 6,
   "metadata": {},
   "outputs": [
    {
     "name": "stderr",
     "output_type": "stream",
     "text": [
      "C:\\Users\\haguirre\\AppData\\Roaming\\Python\\Python310\\site-packages\\openpyxl\\styles\\stylesheet.py:226: UserWarning: Workbook contains no default style, apply openpyxl's default\n",
      "  warn(\"Workbook contains no default style, apply openpyxl's default\")\n",
      "C:\\Users\\haguirre\\AppData\\Roaming\\Python\\Python310\\site-packages\\openpyxl\\styles\\stylesheet.py:226: UserWarning: Workbook contains no default style, apply openpyxl's default\n",
      "  warn(\"Workbook contains no default style, apply openpyxl's default\")\n",
      "C:\\Users\\haguirre\\AppData\\Roaming\\Python\\Python310\\site-packages\\openpyxl\\styles\\stylesheet.py:226: UserWarning: Workbook contains no default style, apply openpyxl's default\n",
      "  warn(\"Workbook contains no default style, apply openpyxl's default\")\n",
      "C:\\Users\\haguirre\\AppData\\Roaming\\Python\\Python310\\site-packages\\openpyxl\\styles\\stylesheet.py:226: UserWarning: Workbook contains no default style, apply openpyxl's default\n",
      "  warn(\"Workbook contains no default style, apply openpyxl's default\")\n",
      "C:\\Users\\haguirre\\AppData\\Roaming\\Python\\Python310\\site-packages\\openpyxl\\styles\\stylesheet.py:226: UserWarning: Workbook contains no default style, apply openpyxl's default\n",
      "  warn(\"Workbook contains no default style, apply openpyxl's default\")\n",
      "C:\\Users\\haguirre\\AppData\\Roaming\\Python\\Python310\\site-packages\\openpyxl\\styles\\stylesheet.py:226: UserWarning: Workbook contains no default style, apply openpyxl's default\n",
      "  warn(\"Workbook contains no default style, apply openpyxl's default\")\n",
      "C:\\Users\\haguirre\\AppData\\Roaming\\Python\\Python310\\site-packages\\openpyxl\\styles\\stylesheet.py:226: UserWarning: Workbook contains no default style, apply openpyxl's default\n",
      "  warn(\"Workbook contains no default style, apply openpyxl's default\")\n",
      "C:\\Users\\haguirre\\AppData\\Roaming\\Python\\Python310\\site-packages\\openpyxl\\styles\\stylesheet.py:226: UserWarning: Workbook contains no default style, apply openpyxl's default\n",
      "  warn(\"Workbook contains no default style, apply openpyxl's default\")\n",
      "C:\\Users\\haguirre\\AppData\\Roaming\\Python\\Python310\\site-packages\\openpyxl\\styles\\stylesheet.py:226: UserWarning: Workbook contains no default style, apply openpyxl's default\n",
      "  warn(\"Workbook contains no default style, apply openpyxl's default\")\n",
      "C:\\Users\\haguirre\\AppData\\Roaming\\Python\\Python310\\site-packages\\openpyxl\\styles\\stylesheet.py:226: UserWarning: Workbook contains no default style, apply openpyxl's default\n",
      "  warn(\"Workbook contains no default style, apply openpyxl's default\")\n",
      "C:\\Users\\haguirre\\AppData\\Roaming\\Python\\Python310\\site-packages\\openpyxl\\styles\\stylesheet.py:226: UserWarning: Workbook contains no default style, apply openpyxl's default\n",
      "  warn(\"Workbook contains no default style, apply openpyxl's default\")\n",
      "C:\\Users\\haguirre\\AppData\\Roaming\\Python\\Python310\\site-packages\\openpyxl\\styles\\stylesheet.py:226: UserWarning: Workbook contains no default style, apply openpyxl's default\n",
      "  warn(\"Workbook contains no default style, apply openpyxl's default\")\n",
      "C:\\Users\\haguirre\\AppData\\Roaming\\Python\\Python310\\site-packages\\openpyxl\\styles\\stylesheet.py:226: UserWarning: Workbook contains no default style, apply openpyxl's default\n",
      "  warn(\"Workbook contains no default style, apply openpyxl's default\")\n",
      "C:\\Users\\haguirre\\AppData\\Roaming\\Python\\Python310\\site-packages\\openpyxl\\styles\\stylesheet.py:226: UserWarning: Workbook contains no default style, apply openpyxl's default\n",
      "  warn(\"Workbook contains no default style, apply openpyxl's default\")\n",
      "C:\\Users\\haguirre\\AppData\\Roaming\\Python\\Python310\\site-packages\\openpyxl\\styles\\stylesheet.py:226: UserWarning: Workbook contains no default style, apply openpyxl's default\n",
      "  warn(\"Workbook contains no default style, apply openpyxl's default\")\n",
      "C:\\Users\\haguirre\\AppData\\Roaming\\Python\\Python310\\site-packages\\openpyxl\\styles\\stylesheet.py:226: UserWarning: Workbook contains no default style, apply openpyxl's default\n",
      "  warn(\"Workbook contains no default style, apply openpyxl's default\")\n",
      "C:\\Users\\haguirre\\AppData\\Roaming\\Python\\Python310\\site-packages\\openpyxl\\styles\\stylesheet.py:226: UserWarning: Workbook contains no default style, apply openpyxl's default\n",
      "  warn(\"Workbook contains no default style, apply openpyxl's default\")\n",
      "C:\\Users\\haguirre\\AppData\\Roaming\\Python\\Python310\\site-packages\\openpyxl\\styles\\stylesheet.py:226: UserWarning: Workbook contains no default style, apply openpyxl's default\n",
      "  warn(\"Workbook contains no default style, apply openpyxl's default\")\n"
     ]
    }
   ],
   "source": [
    "Precios_Mayoristas_list=[]\n",
    "for file in os.listdir(new_dir_path):\n",
    "    if file.endswith('.xlsx'):\n",
    "        df=pd.read_excel(f'{new_dir_path}\\\\{file}')\n",
    "        try:\n",
    "            row_index = df.index[df['Unnamed: 1'] == 'ACTIVIDAD'].tolist()[0]\n",
    "            df.columns = df.iloc[row_index]\n",
    "        except:\n",
    "            pass\n",
    "        df[\"Tipo\"]=file\n",
    "        Precios_Mayoristas_list.append(df)"
   ]
  },
  {
   "cell_type": "code",
   "execution_count": 7,
   "metadata": {},
   "outputs": [
    {
     "name": "stdout",
     "output_type": "stream",
     "text": [
      "['ESTACIÓN DE SERVICIOS / GRIFOS' 'EE.SS con GLP y GNV  '\n",
      " 'ESTACIÓN DE SERVICIO CON GASOCENTRO DE GLP' 'EE.SS con GNV'\n",
      " 'GRIFOS FLOTANTES' 'GRIFOS RURALES CON ALMACENAMIENTO EN CILINDROS'\n",
      " 'GASOCENTRO DE GLP CON ESTABLECIMIENTO DE VENTA AL PUBLICO DE GNV'\n",
      " 'DISTRIBUIDORES MAYORISTAS' 'ESTABLECIMIENTO DE VENTA AL PUBLICO DE GNV'\n",
      " 'COMERCIALIZADORES DE COMBUSTIBLES DE AVIACIÓN'\n",
      " 'DISTRIBUIDOR MAYORISTA DE COMBUSTIBLES LIQUIDOS'\n",
      " 'COMERCIALIZADOR DE COMBUSTIBLE PARA EMBARCACIONES'\n",
      " 'DISTRIBUIDORES MINORISTAS DE COMBUSTIBLE LIQUIDOS']\n",
      "['ESTACIÓN DE SERVICIO CON GASOCENTRO DE GLP'\n",
      " 'ESTACIÓN DE SERVICIOS / GRIFOS' 'EE.SS con GLP y GNV  '\n",
      " 'GRIFOS FLOTANTES' 'EE.SS con GNV'\n",
      " 'GRIFOS RURALES CON ALMACENAMIENTO EN CILINDROS'\n",
      " 'DISTRIBUIDOR MAYORISTA DE COMBUSTIBLES LIQUIDOS'\n",
      " 'ESTABLECIMIENTO DE VENTA AL PUBLICO DE GNV'\n",
      " 'GASOCENTRO DE GLP CON ESTABLECIMIENTO DE VENTA AL PUBLICO DE GNV'\n",
      " 'COMERCIALIZADORES DE COMBUSTIBLES DE AVIACIÓN']\n",
      "['ESTACIÓN DE SERVICIOS / GRIFOS'\n",
      " 'ESTACIÓN DE SERVICIO CON GASOCENTRO DE GLP' 'EE.SS con GNV'\n",
      " 'EE.SS con GLP y GNV  ' 'GRIFOS FLOTANTES'\n",
      " 'GRIFOS RURALES CON ALMACENAMIENTO EN CILINDROS'\n",
      " 'DISTRIBUIDOR MAYORISTA DE COMBUSTIBLES LIQUIDOS'\n",
      " 'ESTABLECIMIENTO DE VENTA AL PUBLICO DE GNV'\n",
      " 'GASOCENTRO DE GLP CON ESTABLECIMIENTO DE VENTA AL PUBLICO DE GNV'\n",
      " 'COMERCIALIZADORES DE COMBUSTIBLES DE AVIACIÓN'\n",
      " 'COMERCIALIZADOR DE COMBUSTIBLE PARA EMBARCACIONES'\n",
      " 'DISTRIBUIDORES MINORISTAS DE COMBUSTIBLE LIQUIDOS'\n",
      " 'MAYORISTA DE OTROS PRODUCTOS DERIVADOS DE HIDROCARBUROS' 'PRODUCTORES']\n",
      "['ESTACIÓN DE SERVICIOS / GRIFOS'\n",
      " 'ESTACIÓN DE SERVICIO CON GASOCENTRO DE GLP' 'GRIFOS FLOTANTES'\n",
      " 'EE.SS con GLP y GNV  ' 'EE.SS con GNV'\n",
      " 'GRIFOS RURALES CON ALMACENAMIENTO EN CILINDROS'\n",
      " 'DISTRIBUIDOR MAYORISTA DE COMBUSTIBLES LIQUIDOS'\n",
      " 'ESTABLECIMIENTO DE VENTA AL PUBLICO DE GNV'\n",
      " 'GASOCENTRO DE GLP CON ESTABLECIMIENTO DE VENTA AL PUBLICO DE GNV'\n",
      " 'COMERCIALIZADORES DE COMBUSTIBLES DE AVIACIÓN' 'PRODUCTORES'\n",
      " 'DISTRIBUIDORES MINORISTAS DE COMBUSTIBLE LIQUIDOS'\n",
      " 'MAYORISTA DE OTROS PRODUCTOS DERIVADOS DE HIDROCARBUROS'\n",
      " 'COMERCIALIZADOR DE COMBUSTIBLE PARA EMBARCACIONES']\n",
      "['ESTACIÓN DE SERVICIOS / GRIFOS' 'EE.SS con GNV' 'EE.SS con GLP y GNV  '\n",
      " 'ESTABLECIMIENTO DE VENTA AL PUBLICO DE GNV'\n",
      " 'ESTACIÓN DE SERVICIO CON GASOCENTRO DE GLP' 'GRIFOS FLOTANTES'\n",
      " 'GRIFOS RURALES CON ALMACENAMIENTO EN CILINDROS'\n",
      " 'COMERCIALIZADORES DE COMBUSTIBLES DE AVIACIÓN'\n",
      " 'GASOCENTRO DE GLP CON ESTABLECIMIENTO DE VENTA AL PUBLICO DE GNV'\n",
      " 'DISTRIBUIDOR MAYORISTA DE COMBUSTIBLES LIQUIDOS'\n",
      " 'MAYORISTA DE OTROS PRODUCTOS DERIVADOS DE HIDROCARBUROS' 'PRODUCTORES'\n",
      " 'COMERCIALIZADOR DE COMBUSTIBLE PARA EMBARCACIONES']\n",
      "['ESTACIÓN DE SERVICIOS / GRIFOS'\n",
      " 'ESTACIÓN DE SERVICIO CON GASOCENTRO DE GLP' 'EE.SS con GLP y GNV  '\n",
      " 'GRIFOS RURALES CON ALMACENAMIENTO EN CILINDROS' 'EE.SS con GNV'\n",
      " 'GRIFOS FLOTANTES' 'ESTABLECIMIENTO DE VENTA AL PUBLICO DE GNV'\n",
      " 'DISTRIBUIDOR MAYORISTA DE COMBUSTIBLES LIQUIDOS'\n",
      " 'GASOCENTRO DE GLP CON ESTABLECIMIENTO DE VENTA AL PUBLICO DE GNV'\n",
      " 'COMERCIALIZADORES DE COMBUSTIBLES DE AVIACIÓN'\n",
      " 'COMERCIALIZADOR DE COMBUSTIBLE PARA EMBARCACIONES' 'PRODUCTORES'\n",
      " 'MAYORISTA DE OTROS PRODUCTOS DERIVADOS DE HIDROCARBUROS']\n",
      "['ESTACIÓN DE SERVICIOS / GRIFOS'\n",
      " 'ESTACIÓN DE SERVICIO CON GASOCENTRO DE GLP' 'EE.SS con GNV'\n",
      " 'ESTABLECIMIENTO DE VENTA AL PUBLICO DE GNV' 'EE.SS con GLP y GNV  '\n",
      " 'GRIFOS FLOTANTES' 'GRIFOS RURALES CON ALMACENAMIENTO EN CILINDROS'\n",
      " 'GASOCENTRO DE GLP CON ESTABLECIMIENTO DE VENTA AL PUBLICO DE GNV'\n",
      " 'DISTRIBUIDOR MAYORISTA DE COMBUSTIBLES LIQUIDOS'\n",
      " 'COMERCIALIZADORES DE COMBUSTIBLES DE AVIACIÓN' 'PRODUCTORES'\n",
      " 'MAYORISTA DE OTROS PRODUCTOS DERIVADOS DE HIDROCARBUROS'\n",
      " 'COMERCIALIZADOR DE COMBUSTIBLE PARA EMBARCACIONES']\n",
      "['ESTACIÓN DE SERVICIOS / GRIFOS'\n",
      " 'ESTACIÓN DE SERVICIO CON GASOCENTRO DE GLP' 'EE.SS con GLP y GNV  '\n",
      " 'EE.SS con GNV' 'GRIFOS RURALES CON ALMACENAMIENTO EN CILINDROS'\n",
      " 'GRIFOS FLOTANTES'\n",
      " 'GASOCENTRO DE GLP CON ESTABLECIMIENTO DE VENTA AL PUBLICO DE GNV'\n",
      " 'ESTABLECIMIENTO DE VENTA AL PUBLICO DE GNV'\n",
      " 'DISTRIBUIDOR MAYORISTA DE COMBUSTIBLES LIQUIDOS'\n",
      " 'COMERCIALIZADORES DE COMBUSTIBLES DE AVIACIÓN'\n",
      " 'COMERCIALIZADOR DE COMBUSTIBLE PARA EMBARCACIONES'\n",
      " 'PROCESAMIENTO GAS Y LGN'\n",
      " 'MAYORISTA DE OTROS PRODUCTOS DERIVADOS DE HIDROCARBUROS']\n",
      "['ACTIVIDAD' 'DISTRIBUIDORES MINORISTAS DE COMBUSTIBLE LIQUIDOS']\n",
      "['DISTRIBUIDORES MINORISTAS DE COMBUSTIBLE LIQUIDOS']\n",
      "['DISTRIBUIDORES MINORISTAS DE COMBUSTIBLE LIQUIDOS']\n",
      "['DISTRIBUIDORES MINORISTAS DE COMBUSTIBLE LIQUIDOS']\n",
      "['ACTIVIDAD' 'DISTRIBUIDOR DE GLP A GRANEL'\n",
      " 'DISTRIBUIDOR DE GLP EN CILINDROS'\n",
      " 'LOCALES DE VENTA DE GLP EN CILINDROS CON CAPACIDAD MENOR O IGUAL A 5,000 KG']\n",
      "['DISTRIBUIDOR DE GLP EN CILINDROS' 'DISTRIBUIDOR DE GLP A GRANEL'\n",
      " 'CAMIÓN PICK UP,CAMIONETA BARANDA Y CAMIONES-TRANSPORTE DE GLP EN CILINDROS'\n",
      " 'LOCALES DE VENTA DE GLP EN CILINDROS CON CAPACIDAD MENOR O IGUAL A 5,000 KG']\n",
      "['DISTRIBUIDOR DE GLP A GRANEL' 'DISTRIBUIDOR DE GLP EN CILINDROS'\n",
      " 'CAMIÓN TANQUE / CAMIÓN CISTERNA - TRANSPORTE DE GLP A GRANEL']\n",
      "['DISTRIBUIDOR DE GLP EN CILINDROS' 'DISTRIBUIDOR DE GLP A GRANEL'\n",
      " 'CAMIÓN PICK UP,CAMIONETA BARANDA Y CAMIONES-TRANSPORTE DE GLP EN CILINDROS'\n",
      " 'ESTACIÓN DE SERVICIOS / GRIFOS' 'PLANTAS ENVASADORAS GLP'\n",
      " 'LOCALES DE VENTA DE GLP EN CILINDROS CON CAPACIDAD MENOR O IGUAL A 5,000 KG']\n",
      "['DISTRIBUIDOR DE GLP EN CILINDROS' 'DISTRIBUIDOR DE GLP A GRANEL'\n",
      " 'CAMIÓN PICK UP,CAMIONETA BARANDA Y CAMIONES-TRANSPORTE DE GLP EN CILINDROS'\n",
      " 'LOCALES DE VENTA DE GLP EN CILINDROS CON CAPACIDAD MENOR O IGUAL A 5,000 KG'\n",
      " 'PLANTAS ENVASADORAS GLP' 'ESTACIÓN DE SERVICIOS / GRIFOS']\n",
      "['ACTIVIDAD' 'COMERCIALIZADOR DE GLP (RCD 155-2015)'\n",
      " 'DISTRIBUIDOR DE GLP A GRANEL' 'DISTRIBUIDOR DE GLP EN CILINDROS'\n",
      " 'DISTRIBUIDOR MAYORISTA DE COMBUSTIBLES LIQUIDOS' 'EE.SS con GLP y GNV  '\n",
      " 'EE.SS con GNV' 'ESTACIÓN DE SERVICIO CON GASOCENTRO DE GLP'\n",
      " 'ESTACIÓN DE SERVICIOS / GRIFOS'\n",
      " 'GASOCENTRO DE GLP CON ESTABLECIMIENTO DE VENTA AL PUBLICO DE GNV'\n",
      " 'GASOCENTROS DE GLP' 'IMPORTADOR DE GLP'\n",
      " 'LOCALES DE VENTA DE GLP EN CILINDROS CON CAPACIDAD MAYOR A 5,000 KG'\n",
      " 'LOCALES DE VENTA DE GLP EN CILINDROS CON CAPACIDAD MENOR O IGUAL A 5,000 KG'\n",
      " 'PLANTAS ABASTECIMIENTO GLP' 'PLANTAS ENVASADORAS GLP' 'PRODUCTORES']\n",
      "['ESTACIÓN DE SERVICIO CON GASOCENTRO DE GLP'\n",
      " 'LOCALES DE VENTA DE GLP EN CILINDROS CON CAPACIDAD MENOR O IGUAL A 5,000 KG'\n",
      " 'EE.SS con GLP y GNV  '\n",
      " 'GASOCENTRO DE GLP CON ESTABLECIMIENTO DE VENTA AL PUBLICO DE GNV'\n",
      " 'ESTACIÓN DE SERVICIOS / GRIFOS' 'GASOCENTROS DE GLP'\n",
      " 'PLANTAS ENVASADORAS GLP'\n",
      " 'LOCALES DE VENTA DE GLP EN CILINDROS CON CAPACIDAD MAYOR A 5,000 KG'\n",
      " 'PRODUCTORES' 'IMPORTADOR DE GLP' 'COMERCIALIZADOR DE GLP (RCD 155-2015)'\n",
      " 'EE.SS con GNV' 'DISTRIBUIDOR MAYORISTA DE COMBUSTIBLES LIQUIDOS'\n",
      " 'DISTRIBUIDOR DE GLP EN CILINDROS' 'DISTRIBUIDOR DE GLP A GRANEL'\n",
      " 'ESTABLECIMIENTO DE VENTA AL PUBLICO DE GNV']\n",
      "['ESTACIÓN DE SERVICIO CON GASOCENTRO DE GLP'\n",
      " 'LOCALES DE VENTA DE GLP EN CILINDROS CON CAPACIDAD MENOR O IGUAL A 5,000 KG'\n",
      " 'EE.SS con GLP y GNV  ' 'COMERCIALIZADOR DE GLP (RCD 155-2015)'\n",
      " 'PLANTAS ENVASADORAS GLP' 'GASOCENTROS DE GLP'\n",
      " 'ESTACIÓN DE SERVICIOS / GRIFOS'\n",
      " 'LOCALES DE VENTA DE GLP EN CILINDROS CON CAPACIDAD MAYOR A 5,000 KG'\n",
      " 'PRODUCTORES' 'IMPORTADOR DE GLP'\n",
      " 'GASOCENTRO DE GLP CON ESTABLECIMIENTO DE VENTA AL PUBLICO DE GNV'\n",
      " 'DISTRIBUIDOR DE GLP EN CILINDROS' 'EE.SS con GNV'\n",
      " 'DISTRIBUIDOR MAYORISTA DE COMBUSTIBLES LIQUIDOS'\n",
      " 'ESTABLECIMIENTO DE VENTA AL PUBLICO DE GNV']\n",
      "['ESTACIÓN DE SERVICIO CON GASOCENTRO DE GLP'\n",
      " 'LOCALES DE VENTA DE GLP EN CILINDROS CON CAPACIDAD MENOR O IGUAL A 5,000 KG'\n",
      " 'GASOCENTROS DE GLP' 'EE.SS con GLP y GNV  '\n",
      " 'ESTACIÓN DE SERVICIOS / GRIFOS'\n",
      " 'GASOCENTRO DE GLP CON ESTABLECIMIENTO DE VENTA AL PUBLICO DE GNV'\n",
      " 'COMERCIALIZADOR DE GLP (RCD 155-2015)' 'PRODUCTORES'\n",
      " 'PLANTAS ENVASADORAS GLP'\n",
      " 'LOCALES DE VENTA DE GLP EN CILINDROS CON CAPACIDAD MAYOR A 5,000 KG'\n",
      " 'IMPORTADOR DE GLP' 'ESTABLECIMIENTO DE VENTA AL PUBLICO DE GNV'\n",
      " 'EE.SS con GNV' 'DISTRIBUIDOR MAYORISTA DE COMBUSTIBLES LIQUIDOS'\n",
      " 'DISTRIBUIDOR DE GLP EN CILINDROS' 'PROCESAMIENTO GAS Y LGN']\n"
     ]
    }
   ],
   "source": [
    "x=[]\n",
    "for element in Precios_Mayoristas_list:\n",
    "    print(element.ACTIVIDAD.unique())\n",
    "    x.append(element.ACTIVIDAD.unique())\n",
    "\n"
   ]
  },
  {
   "cell_type": "code",
   "execution_count": 8,
   "metadata": {},
   "outputs": [
    {
     "data": {
      "text/plain": [
       "['EE.SS con GLP y GNV  ',\n",
       " 'ESTACIÓN DE SERVICIO CON GASOCENTRO DE GLP',\n",
       " 'GASOCENTROS DE GLP',\n",
       " 'LOCALES DE VENTA DE GLP EN CILINDROS CON CAPACIDAD MENOR O IGUAL A 5,000 KG',\n",
       " 'ESTABLECIMIENTO DE VENTA AL PUBLICO DE GNV',\n",
       " 'PROCESAMIENTO GAS Y LGN',\n",
       " 'COMERCIALIZADOR DE GLP (RCD 155-2015)',\n",
       " 'GRIFOS FLOTANTES',\n",
       " 'DISTRIBUIDOR DE GLP A GRANEL',\n",
       " 'GASOCENTRO DE GLP CON ESTABLECIMIENTO DE VENTA AL PUBLICO DE GNV',\n",
       " 'MAYORISTA DE OTROS PRODUCTOS DERIVADOS DE HIDROCARBUROS',\n",
       " 'DISTRIBUIDORES MINORISTAS DE COMBUSTIBLE LIQUIDOS',\n",
       " 'EE.SS con GNV',\n",
       " 'DISTRIBUIDOR MAYORISTA DE COMBUSTIBLES LIQUIDOS',\n",
       " 'LOCALES DE VENTA DE GLP EN CILINDROS CON CAPACIDAD MAYOR A 5,000 KG',\n",
       " 'PLANTAS ABASTECIMIENTO GLP',\n",
       " 'GRIFOS RURALES CON ALMACENAMIENTO EN CILINDROS',\n",
       " 'ESTACIÓN DE SERVICIOS / GRIFOS',\n",
       " 'CAMIÓN TANQUE / CAMIÓN CISTERNA - TRANSPORTE DE GLP A GRANEL',\n",
       " 'CAMIÓN PICK UP,CAMIONETA BARANDA Y CAMIONES-TRANSPORTE DE GLP EN CILINDROS',\n",
       " 'COMERCIALIZADOR DE COMBUSTIBLE PARA EMBARCACIONES',\n",
       " 'COMERCIALIZADORES DE COMBUSTIBLES DE AVIACIÓN',\n",
       " 'DISTRIBUIDORES MAYORISTAS',\n",
       " 'ACTIVIDAD',\n",
       " 'DISTRIBUIDOR DE GLP EN CILINDROS',\n",
       " 'PLANTAS ENVASADORAS GLP',\n",
       " 'IMPORTADOR DE GLP',\n",
       " 'PRODUCTORES']"
      ]
     },
     "execution_count": 8,
     "metadata": {},
     "output_type": "execute_result"
    }
   ],
   "source": [
    "a = [element for sublist in x for element in sublist]\n",
    "# Remove duplicates by converting to set and back to list\n",
    "a = list(set(a))\n",
    "a\n"
   ]
  },
  {
   "cell_type": "code",
   "execution_count": 171,
   "metadata": {},
   "outputs": [],
   "source": [
    "\"\"\" b=[]\n",
    "for a in Precios_Mayoristas_list:\n",
    "    a=a.drop(columns=\"NaN\", errors='ignore')\n",
    "    b.append(a) \"\"\""
   ]
  },
  {
   "cell_type": "code",
   "execution_count": 9,
   "metadata": {},
   "outputs": [],
   "source": [
    "b=[]\n",
    "for a in Precios_Mayoristas_list:\n",
    "    a=a.drop(columns=\"NaN\", errors='ignore')\n",
    "    b.append(a.loc[ (a['ACTIVIDAD'].str.contains('DISTRIBUIDOR')) |\n",
    "                    (a['ACTIVIDAD'].str.contains('PRODUCTOR')) |\n",
    "                    (a['ACTIVIDAD'].str.contains('IMPORTADOR')) |\n",
    "                    (a['ACTIVIDAD'].str.contains('PLANTA'))|\n",
    "                    (a['ACTIVIDAD'].str.contains('MAYORISTAS'))|\n",
    "                    (a['ACTIVIDAD'].str.contains('ACTIVIDAD'))|\n",
    "                    (a['ACTIVIDAD'].str.contains('PROCESAMIENTO'))|\n",
    "                    (a['ACTIVIDAD'].str.contains('COMERCIALIZADOR DE GLP'))\n",
    "                    ])"
   ]
  },
  {
   "cell_type": "code",
   "execution_count": 10,
   "metadata": {},
   "outputs": [],
   "source": [
    "Total=pd.concat(b)"
   ]
  },
  {
   "cell_type": "code",
   "execution_count": 11,
   "metadata": {},
   "outputs": [
    {
     "data": {
      "text/plain": [
       "array(['GASOLINA 95', 'GASOLINA 90', 'GASOLINA 84', 'GASOHOL 84 PLUS',\n",
       "       'GASOHOL 90 PLUS', 'GASOHOL 95 PLUS', 'Diesel B5 S-50',\n",
       "       'Diesel B5 S-50 UV', 'DIESEL B5', 'DIESEL B5 GE', 'DIESEL B5 UV',\n",
       "       'PETRÓLEO INDUSTRIAL Nº 6', 'PETRÓLEO INDUSTRIAL Nº 500',\n",
       "       'GASOLINA 97', 'GASOHOL 97 PLUS', 'GASOLINA 98 BA',\n",
       "       'GASOHOL 98 PLUS', 'Diesel B5 S-50 GE', 'TURBO A-1',\n",
       "       'DIESEL MARINO N° 2', 'SOLVENTE 1', 'SOLVENTE 3',\n",
       "       'ASFALTO LÍQUIDO RC-250', 'ASFALTO LÍQUIDO MC-30',\n",
       "       'ASFALTO LÍQUIDO MC-70', 'CEMENTO ASFÁLTICO 60-70',\n",
       "       'CEMENTO ASFÁLTICO 85-100', 'CEMENTO ASFÁLTICO 10-20',\n",
       "       'CEMENTO ASFÁLTICO 20-30', 'CEMENTO ASFÁLTICO 40-50',\n",
       "       'CEMENTO ASFÁLTICO 120-150', 'TURBO A-1 EXPORT',\n",
       "       'DIESEL MARINO N° 2 EXPORT', 'IFO - 380 EXPORT', 'GASOLINA 100 LL',\n",
       "       'GASOLINA 98', 'INTERMEDIATE FUEL OIL 380 - MF 380',\n",
       "       'PETRÓLEO INDUSTRIAL Nº 6 GE', 'CGN SOLVENTE', 'Diesel 2 S-50 UV',\n",
       "       'Diesel 2 S-50', 'DIESEL 2 UV', 'GASOLINA REGULAR',\n",
       "       'GASOHOL REGULAR', 'GASOLINA PREMIUM', 'GASOHOL PREMIUM',\n",
       "       'PRODUCTO', 'PETRÓLEO INDUSTRIAL Nº 5', 'PETRÓLEO INDUSTRIAL Nº 4',\n",
       "       'ASFALTO LÍQUIDO', 'HEXANO', 'PENTANO', 'BREA',\n",
       "       'ASFALTO LÍQUIDO RC-70', 'DIESEL 2', 'GLP - G',\n",
       "       'Cilindros de 10 Kg de GLP', 'Cilindros de 15 Kg de GLP',\n",
       "       'Cilindros de 45 Kg de GLP', 'Cilindros de 5 Kg de GLP',\n",
       "       'Cilindros de 3 Kg de GLP', 'GLP - E'], dtype=object)"
      ]
     },
     "execution_count": 11,
     "metadata": {},
     "output_type": "execute_result"
    }
   ],
   "source": [
    "Total['PRODUCTO'].unique()"
   ]
  },
  {
   "cell_type": "code",
   "execution_count": 12,
   "metadata": {},
   "outputs": [
    {
     "name": "stderr",
     "output_type": "stream",
     "text": [
      "C:\\Users\\haguirre\\AppData\\Local\\Temp\\ipykernel_27232\\2126133089.py:55: SettingWithCopyWarning: \n",
      "A value is trying to be set on a copy of a slice from a DataFrame.\n",
      "Try using .loc[row_indexer,col_indexer] = value instead\n",
      "\n",
      "See the caveats in the documentation: https://pandas.pydata.org/pandas-docs/stable/user_guide/indexing.html#returning-a-view-versus-a-copy\n",
      "  Precios_Mayoristas.loc[Precios_Mayoristas.PRODUCTO==\"GASOLINA REGULAR\", 'COD_PROD'] = 62\n"
     ]
    }
   ],
   "source": [
    "Precios_Mayoristas=Total\n",
    "\n",
    "# Homogenizar producto\n",
    "Precios_Mayoristas['PRODUCTO']=Precios_Mayoristas['PRODUCTO'].str.replace(\"GASOHOL 95 PLUS\",\"GASOHOL PREMIUM\")\n",
    "Precios_Mayoristas['PRODUCTO']=Precios_Mayoristas['PRODUCTO'].str.replace(\"GASOHOL 90 PLUS\",\"GASOHOL REGULAR\")\n",
    "\n",
    "Precios_Mayoristas['PRODUCTO']=Precios_Mayoristas['PRODUCTO'].str.replace(\"GOH95\",\"GASOHOL PREMIUM\")\n",
    "Precios_Mayoristas['PRODUCTO']=Precios_Mayoristas['PRODUCTO'].str.replace(\"GOH90\",\"GASOHOL REGULAR\")\n",
    "\n",
    "Precios_Mayoristas['PRODUCTO']=Precios_Mayoristas['PRODUCTO'].str.replace(\"GASOLINA 90\",\"GASOLINA REGULAR\")\n",
    "Precios_Mayoristas['PRODUCTO']=Precios_Mayoristas['PRODUCTO'].str.replace(\"GASOLINA 95\",\"GASOLINA PREMIUM\")\n",
    "Precios_Mayoristas['PRODUCTO']=Precios_Mayoristas['PRODUCTO'].str.replace(\"G90\",\"GASOLINA REGULAR\")\n",
    "Precios_Mayoristas['PRODUCTO']=Precios_Mayoristas['PRODUCTO'].str.replace(\"G95\",\"GASOLINA PREMIUM\")\n",
    "\n",
    "Precios_Mayoristas['PRODUCTO']=Precios_Mayoristas['PRODUCTO'].str.replace(\"'Cilindros de 10 Kg de GLP\",\"GLP - E\")\n",
    "\n",
    "\n",
    "\n",
    "Precios_Mayoristas = Precios_Mayoristas[~(Precios_Mayoristas['PRODUCTO'].str.contains('Cilindros de 5 Kg de GL')) &\n",
    "                                        ~(Precios_Mayoristas['PRODUCTO'].str.contains('ASFALTO'))&\n",
    "                                        ~(Precios_Mayoristas['PRODUCTO'].str.contains('PETRÓLEO'))&\n",
    "                                        ~(Precios_Mayoristas['PRODUCTO'].str.contains('CEMENTO'))&\n",
    "                                        ~(Precios_Mayoristas['PRODUCTO'].str.contains('OIL'))&\n",
    "                                        ~(Precios_Mayoristas['PRODUCTO'].str.contains('HEXANO'))&\n",
    "                                        ~(Precios_Mayoristas['PRODUCTO'].str.contains('Cilindros de 45 Kg de GLP'))&\n",
    "                                        ~(Precios_Mayoristas['PRODUCTO'].str.contains('Cilindros de 15 Kg de GLP'))&\n",
    "                                        ~(Precios_Mayoristas['PRODUCTO'].str.contains('Cilindros de 3 Kg de GLP'))&\n",
    "                                        ~(Precios_Mayoristas['PRODUCTO'].str.contains('GLP - E'))&\n",
    "                                        ~(Precios_Mayoristas['PRODUCTO'].str.contains('MARINO'))&\n",
    "                                        ~(Precios_Mayoristas['PRODUCTO'].str.contains('TURBO'))&\n",
    "                                        ~(Precios_Mayoristas['PRODUCTO'].str.contains('IFO - 380 EXPORT'))&\n",
    "                                        ~(Precios_Mayoristas['PRODUCTO'].str.contains('PENTANO'))&\n",
    "                                        ~(Precios_Mayoristas['PRODUCTO'].str.contains('BREA'))&\n",
    "                                        ~(Precios_Mayoristas['PRODUCTO'].str.contains('GASOLINA 84'))&\n",
    "                                        ~(Precios_Mayoristas['PRODUCTO'].str.contains('GASOHOL 84 PLUS'))&\n",
    "                                        ~(Precios_Mayoristas['PRODUCTO']=='DIESEL B5')&\n",
    "                                        ~(Precios_Mayoristas['PRODUCTO']=='DIESEL B5 GE')&\n",
    "                                        ~(Precios_Mayoristas['PRODUCTO']==\"Diesel B5 S-50\")&\n",
    "                                        ~(Precios_Mayoristas['PRODUCTO'].str.contains('GASOLINA 97'))&  \n",
    "                                        ~(Precios_Mayoristas['PRODUCTO'].str.contains('GASOHOL 97 PLUS'))&  \n",
    "                                        ~(Precios_Mayoristas['PRODUCTO'].str.contains('GASOLINA 98 BA'))& \n",
    "                                        ~(Precios_Mayoristas['PRODUCTO'].str.contains('GASOHOL 98 PLUS'))&  \n",
    "                                        ~(Precios_Mayoristas['PRODUCTO'].str.contains('Diesel B5 S-50 GE'))&                                                                                \n",
    "                                        ~(Precios_Mayoristas['PRODUCTO'].str.contains('SOLVENTE'))&  \n",
    "                                        ~(Precios_Mayoristas['PRODUCTO'].str.contains('GASOLINA 100 LL'))&  \n",
    "                                        ~(Precios_Mayoristas['PRODUCTO'].str.contains('GASOLINA 98'))&  \n",
    "                                        ~(Precios_Mayoristas['PRODUCTO'].str.contains('CGN SOLVENTE'))&  \n",
    "                                        ~(Precios_Mayoristas['PRODUCTO'].str.contains('DIESEL 2'))& \n",
    "                                        ~(Precios_Mayoristas['PRODUCTO'].str.contains('PRODUCTO'))&\n",
    "                                        ~(Precios_Mayoristas['PRODUCTO'].str.contains('Diesel 2'))\n",
    "                                        ]\n",
    "\n",
    "\n",
    "#codificar producto\n",
    "Precios_Mayoristas.loc[Precios_Mayoristas.PRODUCTO==\"GASOLINA REGULAR\", 'COD_PROD'] = 62\n",
    "Precios_Mayoristas.loc[Precios_Mayoristas.PRODUCTO==\"GASOLINA PREMIUM\", 'COD_PROD'] = 61\n",
    "Precios_Mayoristas.loc[Precios_Mayoristas.PRODUCTO==\"GASOHOL REGULAR\", 'COD_PROD'] = 60\n",
    "Precios_Mayoristas.loc[Precios_Mayoristas.PRODUCTO==\"GASOHOL PREMIUM\", 'COD_PROD'] = 59\n",
    "Precios_Mayoristas.loc[Precios_Mayoristas.PRODUCTO==\"Cilindros de 10 Kg de GLP\", 'COD_PROD'] = 29\n",
    "Precios_Mayoristas.loc[Precios_Mayoristas.PRODUCTO==\"GLP - G\", 'COD_PROD'] = 30\n",
    "Precios_Mayoristas.loc[Precios_Mayoristas.PRODUCTO==\"DIESEL B5 S-50 UV\", 'COD_PROD'] = 15\n",
    "Precios_Mayoristas.loc[Precios_Mayoristas.PRODUCTO==\"DIESEL B5 UV\", 'COD_PROD'] = 9\n",
    "Precios_Mayoristas.loc[Precios_Mayoristas.PRODUCTO==\"Diesel B5 S-50 UV\", 'COD_PROD'] = 15\n",
    "Precios_Mayoristas.loc[Precios_Mayoristas.PRODUCTO==\"DIESEL B5 UV\", 'COD_PROD'] = 9\n"
   ]
  },
  {
   "cell_type": "code",
   "execution_count": 13,
   "metadata": {},
   "outputs": [
    {
     "name": "stderr",
     "output_type": "stream",
     "text": [
      "C:\\Users\\haguirre\\AppData\\Local\\Temp\\ipykernel_27232\\3114991435.py:1: SettingWithCopyWarning: \n",
      "A value is trying to be set on a copy of a slice from a DataFrame.\n",
      "Try using .loc[row_indexer,col_indexer] = value instead\n",
      "\n",
      "See the caveats in the documentation: https://pandas.pydata.org/pandas-docs/stable/user_guide/indexing.html#returning-a-view-versus-a-copy\n",
      "  Precios_Mayoristas['FECHA DE REGISTRO'] = pd.to_datetime(Precios_Mayoristas['FECHA DE REGISTRO'], format='%Y-%m-%d')\n",
      "C:\\Users\\haguirre\\AppData\\Local\\Temp\\ipykernel_27232\\3114991435.py:3: SettingWithCopyWarning: \n",
      "A value is trying to be set on a copy of a slice from a DataFrame.\n",
      "Try using .loc[row_indexer,col_indexer] = value instead\n",
      "\n",
      "See the caveats in the documentation: https://pandas.pydata.org/pandas-docs/stable/user_guide/indexing.html#returning-a-view-versus-a-copy\n",
      "  Precios_Mayoristas['DIA'] =Precios_Mayoristas['FECHA DE REGISTRO'].dt.day.astype(str)\n",
      "C:\\Users\\haguirre\\AppData\\Local\\Temp\\ipykernel_27232\\3114991435.py:4: SettingWithCopyWarning: \n",
      "A value is trying to be set on a copy of a slice from a DataFrame.\n",
      "Try using .loc[row_indexer,col_indexer] = value instead\n",
      "\n",
      "See the caveats in the documentation: https://pandas.pydata.org/pandas-docs/stable/user_guide/indexing.html#returning-a-view-versus-a-copy\n",
      "  Precios_Mayoristas['MES'] =Precios_Mayoristas['FECHA DE REGISTRO'].dt.month.astype(str)\n",
      "C:\\Users\\haguirre\\AppData\\Local\\Temp\\ipykernel_27232\\3114991435.py:5: SettingWithCopyWarning: \n",
      "A value is trying to be set on a copy of a slice from a DataFrame.\n",
      "Try using .loc[row_indexer,col_indexer] = value instead\n",
      "\n",
      "See the caveats in the documentation: https://pandas.pydata.org/pandas-docs/stable/user_guide/indexing.html#returning-a-view-versus-a-copy\n",
      "  Precios_Mayoristas['AÑO'] =Precios_Mayoristas['FECHA DE REGISTRO'].dt.year.astype(str)\n",
      "C:\\Users\\haguirre\\AppData\\Local\\Temp\\ipykernel_27232\\3114991435.py:10: SettingWithCopyWarning: \n",
      "A value is trying to be set on a copy of a slice from a DataFrame.\n",
      "Try using .loc[row_indexer,col_indexer] = value instead\n",
      "\n",
      "See the caveats in the documentation: https://pandas.pydata.org/pandas-docs/stable/user_guide/indexing.html#returning-a-view-versus-a-copy\n",
      "  Precios_Mayoristas['MES']='0'+Precios_Mayoristas['MES']\n",
      "C:\\Users\\haguirre\\AppData\\Local\\Temp\\ipykernel_27232\\3114991435.py:11: SettingWithCopyWarning: \n",
      "A value is trying to be set on a copy of a slice from a DataFrame.\n",
      "Try using .loc[row_indexer,col_indexer] = value instead\n",
      "\n",
      "See the caveats in the documentation: https://pandas.pydata.org/pandas-docs/stable/user_guide/indexing.html#returning-a-view-versus-a-copy\n",
      "  Precios_Mayoristas['MES']=Precios_Mayoristas['MES'].str.replace('010','10')\n",
      "C:\\Users\\haguirre\\AppData\\Local\\Temp\\ipykernel_27232\\3114991435.py:12: SettingWithCopyWarning: \n",
      "A value is trying to be set on a copy of a slice from a DataFrame.\n",
      "Try using .loc[row_indexer,col_indexer] = value instead\n",
      "\n",
      "See the caveats in the documentation: https://pandas.pydata.org/pandas-docs/stable/user_guide/indexing.html#returning-a-view-versus-a-copy\n",
      "  Precios_Mayoristas['MES']=Precios_Mayoristas['MES'].str.replace('011','11')\n",
      "C:\\Users\\haguirre\\AppData\\Local\\Temp\\ipykernel_27232\\3114991435.py:13: SettingWithCopyWarning: \n",
      "A value is trying to be set on a copy of a slice from a DataFrame.\n",
      "Try using .loc[row_indexer,col_indexer] = value instead\n",
      "\n",
      "See the caveats in the documentation: https://pandas.pydata.org/pandas-docs/stable/user_guide/indexing.html#returning-a-view-versus-a-copy\n",
      "  Precios_Mayoristas['MES']=Precios_Mayoristas['MES'].str.replace('012','12')\n",
      "C:\\Users\\haguirre\\AppData\\Local\\Temp\\ipykernel_27232\\3114991435.py:18: SettingWithCopyWarning: \n",
      "A value is trying to be set on a copy of a slice from a DataFrame.\n",
      "Try using .loc[row_indexer,col_indexer] = value instead\n",
      "\n",
      "See the caveats in the documentation: https://pandas.pydata.org/pandas-docs/stable/user_guide/indexing.html#returning-a-view-versus-a-copy\n",
      "  Precios_Mayoristas['fecha_stata']=Precios_Mayoristas['AÑO']+\"-\"+Precios_Mayoristas['MES']+\"-\"+Precios_Mayoristas['DIA']\n",
      "C:\\Users\\haguirre\\AppData\\Local\\Temp\\ipykernel_27232\\3114991435.py:19: SettingWithCopyWarning: \n",
      "A value is trying to be set on a copy of a slice from a DataFrame.\n",
      "Try using .loc[row_indexer,col_indexer] = value instead\n",
      "\n",
      "See the caveats in the documentation: https://pandas.pydata.org/pandas-docs/stable/user_guide/indexing.html#returning-a-view-versus-a-copy\n",
      "  Precios_Mayoristas['fecha_stata'] = pd.to_datetime(Precios_Mayoristas['fecha_stata'], format='%Y-%m-%d')\n"
     ]
    }
   ],
   "source": [
    "Precios_Mayoristas['FECHA DE REGISTRO'] = pd.to_datetime(Precios_Mayoristas['FECHA DE REGISTRO'], format='%Y-%m-%d')\n",
    "\n",
    "Precios_Mayoristas['DIA'] =Precios_Mayoristas['FECHA DE REGISTRO'].dt.day.astype(str)\n",
    "Precios_Mayoristas['MES'] =Precios_Mayoristas['FECHA DE REGISTRO'].dt.month.astype(str)\n",
    "Precios_Mayoristas['AÑO'] =Precios_Mayoristas['FECHA DE REGISTRO'].dt.year.astype(str)\n",
    "\n",
    "\n",
    "#mes\n",
    "\n",
    "Precios_Mayoristas['MES']='0'+Precios_Mayoristas['MES']\n",
    "Precios_Mayoristas['MES']=Precios_Mayoristas['MES'].str.replace('010','10')\n",
    "Precios_Mayoristas['MES']=Precios_Mayoristas['MES'].str.replace('011','11')\n",
    "Precios_Mayoristas['MES']=Precios_Mayoristas['MES'].str.replace('012','12')\n",
    "\n",
    "#día\n",
    "\n",
    "\n",
    "Precios_Mayoristas['fecha_stata']=Precios_Mayoristas['AÑO']+\"-\"+Precios_Mayoristas['MES']+\"-\"+Precios_Mayoristas['DIA']\n",
    "Precios_Mayoristas['fecha_stata'] = pd.to_datetime(Precios_Mayoristas['fecha_stata'], format='%Y-%m-%d')\n",
    "#mes\n",
    "\n"
   ]
  },
  {
   "cell_type": "code",
   "execution_count": 14,
   "metadata": {},
   "outputs": [
    {
     "name": "stderr",
     "output_type": "stream",
     "text": [
      "C:\\Users\\haguirre\\AppData\\Local\\Temp\\ipykernel_27232\\3679994781.py:1: SettingWithCopyWarning: \n",
      "A value is trying to be set on a copy of a slice from a DataFrame.\n",
      "Try using .loc[row_indexer,col_indexer] = value instead\n",
      "\n",
      "See the caveats in the documentation: https://pandas.pydata.org/pandas-docs/stable/user_guide/indexing.html#returning-a-view-versus-a-copy\n",
      "  Precios_Mayoristas['PRECIO DE VENTA (SOLES)'] = Precios_Mayoristas['PRECIO DE VENTA (SOLES)'].fillna((Precios_Mayoristas['PRECIO_MIN (SOLES)'] + Precios_Mayoristas['PRECIO_MAX (SOLES)'])/2)\n",
      "C:\\Users\\haguirre\\AppData\\Local\\Temp\\ipykernel_27232\\3679994781.py:10: SettingWithCopyWarning: \n",
      "A value is trying to be set on a copy of a slice from a DataFrame.\n",
      "Try using .loc[row_indexer,col_indexer] = value instead\n",
      "\n",
      "See the caveats in the documentation: https://pandas.pydata.org/pandas-docs/stable/user_guide/indexing.html#returning-a-view-versus-a-copy\n",
      "  Precios_Mayoristas['PRECIO DE VENTA (SOLES)'] = Precios_Mayoristas.apply(replace_value, axis=1)\n"
     ]
    },
    {
     "data": {
      "text/plain": [
       "count    125094.000000\n",
       "mean         20.067597\n",
       "std          15.796178\n",
       "min           0.000000\n",
       "25%           7.700000\n",
       "50%          15.330000\n",
       "75%          33.500000\n",
       "max          86.000000\n",
       "Name: PRECIO DE VENTA (SOLES), dtype: float64"
      ]
     },
     "execution_count": 14,
     "metadata": {},
     "output_type": "execute_result"
    }
   ],
   "source": [
    "Precios_Mayoristas['PRECIO DE VENTA (SOLES)'] = Precios_Mayoristas['PRECIO DE VENTA (SOLES)'].fillna((Precios_Mayoristas['PRECIO_MIN (SOLES)'] + Precios_Mayoristas['PRECIO_MAX (SOLES)'])/2)\n",
    "\n",
    "def replace_value(row):\n",
    "    if row['PRECIO DE VENTA (SOLES)'] > 100 and not np.isnan(row['PRECIO_MIN (SOLES)']) and not np.isnan(row['PRECIO_MAX (SOLES)']):\n",
    "        return (row['PRECIO_MIN (SOLES)'] + row['PRECIO_MAX (SOLES)'])/2\n",
    "    else:\n",
    "        return row['PRECIO DE VENTA (SOLES)']\n",
    "\n",
    "# Apply the function to the DataFrame\n",
    "Precios_Mayoristas['PRECIO DE VENTA (SOLES)'] = Precios_Mayoristas.apply(replace_value, axis=1)\n",
    "\n",
    "Precios_Mayoristas = Precios_Mayoristas[Precios_Mayoristas['PRECIO DE VENTA (SOLES)'] <= 100]\n",
    "\n",
    "\n",
    "Precios_Mayoristas['PRECIO DE VENTA (SOLES)'].describe()\n"
   ]
  },
  {
   "cell_type": "code",
   "execution_count": 15,
   "metadata": {},
   "outputs": [
    {
     "data": {
      "text/plain": [
       "count    125094.000000\n",
       "mean         20.170589\n",
       "std          15.670473\n",
       "min           0.000000\n",
       "25%           7.400000\n",
       "50%          15.310000\n",
       "75%          33.500000\n",
       "max          86.000000\n",
       "Name: PRECIO DE VENTA (SOLES), dtype: float64"
      ]
     },
     "execution_count": 15,
     "metadata": {},
     "output_type": "execute_result"
    }
   ],
   "source": [
    "#Conversión de litros a galones\n",
    "Precios_Mayoristas.reset_index()\n",
    "\n",
    "\n",
    "def replace_value_litros(row):\n",
    "    if row['PRECIO DE VENTA (SOLES)'] > 5 and row['COD_PROD'] == 30:\n",
    "        return (row['PRECIO DE VENTA (SOLES)'])/ 3.78533\n",
    "    else:\n",
    "        return row['PRECIO DE VENTA (SOLES)']\n",
    "\n",
    "\n",
    "# Apply the function to the DataFrame\n",
    "Precios_Mayoristas['PRECIO DE VENTA (SOLES)'] = Precios_Mayoristas.apply(replace_value_litros, axis=1)\n",
    "\n",
    "\n",
    "Precios_Mayoristas.loc[Precios_Mayoristas['COD_PROD'] == 30, 'PRECIO DE VENTA (SOLES)'] = Precios_Mayoristas.loc[Precios_Mayoristas['COD_PROD'] == 30, 'PRECIO DE VENTA (SOLES)'] /  0.5324\n",
    "\n",
    "\n",
    "Precios_Mayoristas['PRECIO DE VENTA (SOLES)']=Precios_Mayoristas['PRECIO DE VENTA (SOLES)'].round(2)\n",
    "\n",
    "Precios_Mayoristas['PRECIO DE VENTA (SOLES)'].describe()"
   ]
  },
  {
   "cell_type": "code",
   "execution_count": 16,
   "metadata": {},
   "outputs": [],
   "source": [
    "Precios_Mayoristas=Precios_Mayoristas.rename(columns={'DEPARTAMENTO':'DEPARTAMENTO_VENDEDOR',\n",
    "                                   'PROVINCIA':'PROVINCIA_VENDEDOR',\n",
    "                                   'DISTRITO':'DISTRITO_VENDEDOR'\n",
    "                                   })"
   ]
  },
  {
   "cell_type": "code",
   "execution_count": 17,
   "metadata": {},
   "outputs": [
    {
     "data": {
      "text/plain": [
       "Index([                'ACTIVIDAD', 'REGISTRO DE HIDROCARBUROS',\n",
       "                             'RUC',              'RAZÓN SOCIAL',\n",
       "           'DEPARTAMENTO_VENDEDOR',        'PROVINCIA_VENDEDOR',\n",
       "               'DISTRITO_VENDEDOR',                 'DIRECCIÓN',\n",
       "               'FECHA DE REGISTRO',                  'PRODUCTO',\n",
       "         'PRECIO DE VENTA (SOLES)',                    'UNIDAD',\n",
       "                            'Tipo',                         nan,\n",
       "            'DEPARTAMENTO_REPARTO',         'PROVINCIA_REPARTO',\n",
       "              'PRECIO_MIN (SOLES)',        'PRECIO_MAX (SOLES)',\n",
       "                               nan,                     'MARCA',\n",
       "                               nan,           'TIPO DE CLIENTE',\n",
       "                        'COD_PROD',                       'DIA',\n",
       "                             'MES',                       'AÑO',\n",
       "                     'fecha_stata'],\n",
       "      dtype='object')"
      ]
     },
     "execution_count": 17,
     "metadata": {},
     "output_type": "execute_result"
    }
   ],
   "source": [
    "Precios_Mayoristas.columns"
   ]
  },
  {
   "cell_type": "code",
   "execution_count": 19,
   "metadata": {},
   "outputs": [],
   "source": [
    "Precios_Mayoristas.to_csv(\"../data/interim/mayoristas_pre_imp.csv\", sep=\";\", encoding=\"utf-8\")"
   ]
  },
  {
   "cell_type": "code",
   "execution_count": 21,
   "metadata": {},
   "outputs": [],
   "source": [
    "Precios_Mayoristas=Precios_Mayoristas[[\"RAZÓN SOCIAL\", \"DEPARTAMENTO_VENDEDOR\", \"PROVINCIA_VENDEDOR\", \"DISTRITO_VENDEDOR\", \"DIRECCIÓN\"]]"
   ]
  },
  {
   "cell_type": "code",
   "execution_count": 23,
   "metadata": {},
   "outputs": [
    {
     "data": {
      "text/html": [
       "<div>\n",
       "<style scoped>\n",
       "    .dataframe tbody tr th:only-of-type {\n",
       "        vertical-align: middle;\n",
       "    }\n",
       "\n",
       "    .dataframe tbody tr th {\n",
       "        vertical-align: top;\n",
       "    }\n",
       "\n",
       "    .dataframe thead th {\n",
       "        text-align: right;\n",
       "    }\n",
       "</style>\n",
       "<table border=\"1\" class=\"dataframe\">\n",
       "  <thead>\n",
       "    <tr style=\"text-align: right;\">\n",
       "      <th></th>\n",
       "      <th>RAZÓN SOCIAL</th>\n",
       "      <th>DEPARTAMENTO_VENDEDOR</th>\n",
       "      <th>PROVINCIA_VENDEDOR</th>\n",
       "      <th>DISTRITO_VENDEDOR</th>\n",
       "      <th>DIRECCIÓN</th>\n",
       "    </tr>\n",
       "  </thead>\n",
       "  <tbody>\n",
       "    <tr>\n",
       "      <th>1721</th>\n",
       "      <td>PETROLEOS DEL PERU - PETROPERU S.A.</td>\n",
       "      <td>LA LIBERTAD</td>\n",
       "      <td>TRUJILLO</td>\n",
       "      <td>SALAVERRY</td>\n",
       "      <td>CALLE FELIPE SANTIAGO SALAVERRY N° 100</td>\n",
       "    </tr>\n",
       "    <tr>\n",
       "      <th>2081</th>\n",
       "      <td>PETROLEOS DEL PERU - PETROPERU S.A. - PLANTA D...</td>\n",
       "      <td>PIURA</td>\n",
       "      <td>PIURA</td>\n",
       "      <td>PIURA</td>\n",
       "      <td>PLANTA DE VENTAS PIURA</td>\n",
       "    </tr>\n",
       "    <tr>\n",
       "      <th>2170</th>\n",
       "      <td>REPSOL COMERCIAL S.A.C.</td>\n",
       "      <td>ICA</td>\n",
       "      <td>PISCO</td>\n",
       "      <td>SAN ANDRES</td>\n",
       "      <td>AV. GENARO MEDRANO ZONA SUR NRO. S/N</td>\n",
       "    </tr>\n",
       "    <tr>\n",
       "      <th>2178</th>\n",
       "      <td>REPSOL COMERCIAL S.A.C.</td>\n",
       "      <td>LA LIBERTAD</td>\n",
       "      <td>TRUJILLO</td>\n",
       "      <td>SALAVERRY</td>\n",
       "      <td>JR. PACASMAYO N° 16</td>\n",
       "    </tr>\n",
       "    <tr>\n",
       "      <th>2186</th>\n",
       "      <td>REPSOL COMERCIAL S.A.C.</td>\n",
       "      <td>LAMBAYEQUE</td>\n",
       "      <td>CHICLAYO</td>\n",
       "      <td>ETEN PUERTO</td>\n",
       "      <td>CARRETERA PLAYA LOBOS S/N</td>\n",
       "    </tr>\n",
       "    <tr>\n",
       "      <th>...</th>\n",
       "      <td>...</td>\n",
       "      <td>...</td>\n",
       "      <td>...</td>\n",
       "      <td>...</td>\n",
       "      <td>...</td>\n",
       "    </tr>\n",
       "    <tr>\n",
       "      <th>488833</th>\n",
       "      <td>LIMA GAS SAN SALVADOR CUSCO</td>\n",
       "      <td>CUSCO</td>\n",
       "      <td>CALCA</td>\n",
       "      <td>SAN SALVADOR</td>\n",
       "      <td>CARRETERA HUAMBUTIO  SAN SALVADOR  PISAQ S/N...</td>\n",
       "    </tr>\n",
       "    <tr>\n",
       "      <th>488956</th>\n",
       "      <td>YOZ GAS EIRL</td>\n",
       "      <td>HUANUCO</td>\n",
       "      <td>LEONCIO PRADO</td>\n",
       "      <td>RUPA-RUPA</td>\n",
       "      <td>AV. RAIMONDI N° 1166 - TINGO MARIA</td>\n",
       "    </tr>\n",
       "    <tr>\n",
       "      <th>505073</th>\n",
       "      <td>UNNA ENERGIA S.A.</td>\n",
       "      <td>PIURA</td>\n",
       "      <td>TALARA</td>\n",
       "      <td>PARIÑAS</td>\n",
       "      <td>PARIÑAS  ALTURA KM. 4.5 CARRETERA 1A TALARA /...</td>\n",
       "    </tr>\n",
       "    <tr>\n",
       "      <th>609654</th>\n",
       "      <td>PUNTO GAS S.A.C.</td>\n",
       "      <td>LIMA</td>\n",
       "      <td>LIMA</td>\n",
       "      <td>ATE</td>\n",
       "      <td>MZ. O LOTE 3, URB. INDUSTRIAL SANTA ROSA</td>\n",
       "    </tr>\n",
       "    <tr>\n",
       "      <th>676049</th>\n",
       "      <td>LLAMA GAS S.A.</td>\n",
       "      <td>LIMA</td>\n",
       "      <td>LIMA</td>\n",
       "      <td>VILLA MARIA DEL TRIUNFO</td>\n",
       "      <td>AV. PACHACUTEC KM. 23.5 TABLADA DE LURIN</td>\n",
       "    </tr>\n",
       "  </tbody>\n",
       "</table>\n",
       "<p>1959 rows × 5 columns</p>\n",
       "</div>"
      ],
      "text/plain": [
       "                                             RAZÓN SOCIAL  \\\n",
       "1721                  PETROLEOS DEL PERU - PETROPERU S.A.   \n",
       "2081    PETROLEOS DEL PERU - PETROPERU S.A. - PLANTA D...   \n",
       "2170                              REPSOL COMERCIAL S.A.C.   \n",
       "2178                              REPSOL COMERCIAL S.A.C.   \n",
       "2186                             REPSOL COMERCIAL S.A.C.    \n",
       "...                                                   ...   \n",
       "488833                        LIMA GAS SAN SALVADOR CUSCO   \n",
       "488956                                       YOZ GAS EIRL   \n",
       "505073                                  UNNA ENERGIA S.A.   \n",
       "609654                                   PUNTO GAS S.A.C.   \n",
       "676049                                     LLAMA GAS S.A.   \n",
       "\n",
       "       DEPARTAMENTO_VENDEDOR PROVINCIA_VENDEDOR        DISTRITO_VENDEDOR  \\\n",
       "1721             LA LIBERTAD           TRUJILLO                SALAVERRY   \n",
       "2081                   PIURA              PIURA                    PIURA   \n",
       "2170                     ICA              PISCO               SAN ANDRES   \n",
       "2178             LA LIBERTAD           TRUJILLO                SALAVERRY   \n",
       "2186              LAMBAYEQUE           CHICLAYO              ETEN PUERTO   \n",
       "...                      ...                ...                      ...   \n",
       "488833                 CUSCO              CALCA             SAN SALVADOR   \n",
       "488956               HUANUCO      LEONCIO PRADO                RUPA-RUPA   \n",
       "505073                 PIURA             TALARA                  PARIÑAS   \n",
       "609654                  LIMA               LIMA                      ATE   \n",
       "676049                  LIMA               LIMA  VILLA MARIA DEL TRIUNFO   \n",
       "\n",
       "                                                DIRECCIÓN  \n",
       "1721               CALLE FELIPE SANTIAGO SALAVERRY N° 100  \n",
       "2081                               PLANTA DE VENTAS PIURA  \n",
       "2170                 AV. GENARO MEDRANO ZONA SUR NRO. S/N  \n",
       "2178                                  JR. PACASMAYO N° 16  \n",
       "2186                            CARRETERA PLAYA LOBOS S/N  \n",
       "...                                                   ...  \n",
       "488833  CARRETERA HUAMBUTIO  SAN SALVADOR  PISAQ S/N...  \n",
       "488956                 AV. RAIMONDI N° 1166 - TINGO MARIA  \n",
       "505073  PARIÑAS  ALTURA KM. 4.5 CARRETERA 1A TALARA /...  \n",
       "609654           MZ. O LOTE 3, URB. INDUSTRIAL SANTA ROSA  \n",
       "676049           AV. PACHACUTEC KM. 23.5 TABLADA DE LURIN  \n",
       "\n",
       "[1959 rows x 5 columns]"
      ]
     },
     "execution_count": 23,
     "metadata": {},
     "output_type": "execute_result"
    }
   ],
   "source": [
    "Precios_Mayoristas.drop_duplicates()"
   ]
  },
  {
   "cell_type": "code",
   "execution_count": 25,
   "metadata": {},
   "outputs": [],
   "source": [
    "a=Precios_Mayoristas.drop_duplicates()"
   ]
  },
  {
   "cell_type": "code",
   "execution_count": 26,
   "metadata": {},
   "outputs": [],
   "source": [
    "a.to_csv(\"../data/interim/mayoristas_direcciones.csv\", sep=\";\", encoding=\"utf-8\")"
   ]
  },
  {
   "cell_type": "code",
   "execution_count": null,
   "metadata": {},
   "outputs": [],
   "source": []
  }
 ],
 "metadata": {
  "kernelspec": {
   "display_name": "base",
   "language": "python",
   "name": "python3"
  },
  "language_info": {
   "codemirror_mode": {
    "name": "ipython",
    "version": 3
   },
   "file_extension": ".py",
   "mimetype": "text/x-python",
   "name": "python",
   "nbconvert_exporter": "python",
   "pygments_lexer": "ipython3",
   "version": "3.10.13"
  }
 },
 "nbformat": 4,
 "nbformat_minor": 2
}
